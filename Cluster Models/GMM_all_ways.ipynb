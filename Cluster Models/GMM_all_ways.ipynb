{
 "cells": [
  {
   "cell_type": "code",
   "execution_count": 1,
   "metadata": {},
   "outputs": [],
   "source": [
    "import pandas as pd\n",
    "import numpy as np\n",
    "from sklearn.preprocessing import StandardScaler\n",
    "import matplotlib.pyplot as plt\n",
    "from sklearn.mixture import GaussianMixture\n",
    "from sklearn.metrics import silhouette_score, silhouette_samples"
   ]
  },
  {
   "cell_type": "code",
   "execution_count": 2,
   "metadata": {},
   "outputs": [],
   "source": [
    "cluster_data = pd.read_csv('Data_2009_2019.csv')  #Read csv\n",
    "cluster_data = cluster_data[cluster_data['GP'] >=20]  #Choose players wtih more than 20 games per season\n",
    "cluster_data=cluster_data.set_index(['Player','Tm','GP'])  #Set player, team and games played as index.\n",
    "cluster_data=cluster_data.drop('Unnamed: 0',axis=1)   #Drop an unnamed column."
   ]
  },
  {
   "cell_type": "code",
   "execution_count": 3,
   "metadata": {},
   "outputs": [],
   "source": [
    "scaler = StandardScaler()  #Scaler\n",
    "X_scaled = scaler.fit_transform(cluster_data)  #Standarized data"
   ]
  },
  {
   "cell_type": "markdown",
   "metadata": {},
   "source": [
    "# This notebook shows the implementation of Gaussian Mixture Models (GMM) in 4 different ways. The algorithm used to find the best parameters of each cluster is called Expectation Maximization or EM.\n"
   ]
  },
  {
   "cell_type": "raw",
   "metadata": {},
   "source": [
    "In GMM there are multiple options to initialize parameters: By using custom values for the weights, the mean and variance of each cluster.\n",
    "For evaluating performance the metric used was Bayesian Information Criterion (BIC); the lowest the value the better performance has the model. "
   ]
  },
  {
   "cell_type": "code",
   "execution_count": 4,
   "metadata": {},
   "outputs": [
    {
     "name": "stdout",
     "output_type": "stream",
     "text": [
      "The score is 0.09366682534756503 \n",
      "The lowest BIC is: 91684.39399010039 with these weights [0.16666667 0.16666667 0.16666667 0.16666667 0.16666667 0.16666667]\n"
     ]
    }
   ],
   "source": [
    "weights=[np.array([1/6]*6),np.array([0.16,0.16,0.16,0.16,0.16,0.2]),np.array([0.2,0.16,0.16,0.16,0.16,0.16]),\n",
    "         np.array([0.16,0.2,0.16,0.16,0.16,0.16]),np.array([0.16,0.16,0.2,0.16,0.16,0.16]),np.array([0.16,0.16,0.16,0.2,0.16,0.16]),\n",
    "         np.array([0.16,0.16,0.16,0.16,0.2,0.16])]  #Values for init weights. \n",
    "random_state=1\n",
    "score=[]\n",
    "n_comp=[]\n",
    "bics=[]\n",
    "\n",
    "for i in weights:\n",
    "    gmm=GaussianMixture(n_components=6,random_state=random_state,weights_init=i,\n",
    "        covariance_type='full',n_init=10)  #Apply GMM with 6 clusters\n",
    "    em_labels=gmm.fit_predict(X_scaled)\n",
    "    sh_score = silhouette_score(X_scaled, em_labels)\n",
    "    score.append(sh_score)\n",
    "    n_comp.append(i)\n",
    "    bics.append(gmm.bic(X_scaled))  #Put the BIC score into a list\n",
    "\n",
    "a=score.index(max(score))\n",
    "b=bics.index(min(bics))\n",
    "\n",
    "print('The score is', score[a],'\\n'\n",
    "     'The lowest BIC is:',bics[b],'with these weights',n_comp[b]) #Show the best solution"
   ]
  },
  {
   "cell_type": "code",
   "execution_count": 5,
   "metadata": {},
   "outputs": [
    {
     "name": "stdout",
     "output_type": "stream",
     "text": [
      "The score is 0.09233568030846766 \n",
      "The lowest BIC is: 83859.29951983472 with these weights [0.14285714 0.14285714 0.14285714 0.14285714 0.14285714 0.14285714\n",
      " 0.14285714]\n"
     ]
    }
   ],
   "source": [
    "weights_7=[np.array([1/7]*7),np.array([0.13,0.13,0.13,0.13,0.13,0.13,0.22]),np.array([0.22,0.13,0.13,0.13,0.13,0.13,0.13]),\n",
    "          np.array([0.13,0.22,0.13,0.13,0.13,0.13,0.13]),np.array([0.13,0.13,0.22,0.13,0.13,0.13,0.13]),\n",
    "          np.array([0.13,0.13,0.13,0.22,0.13,0.13,0.13]),np.array([0.13,0.13,0.13,0.13,0.22,0.13,0.13]),\n",
    "          np.array([0.13,0.13,0.13,0.13,0.13,0.22,0.13])]  #Values for init weights.\n",
    "random_state=1\n",
    "score_7=[]\n",
    "n_comp_7=[]\n",
    "bics_7=[]\n",
    "\n",
    "for i in weights_7:\n",
    "    gmm=GaussianMixture(n_components=7,random_state=random_state,weights_init=i,\n",
    "        covariance_type='full',n_init=10)  #Apply GMM with 7 clusters\n",
    "    em_labels=gmm.fit_predict(X_scaled)\n",
    "    sh_score = silhouette_score(X_scaled, em_labels)\n",
    "    score_7.append(sh_score)\n",
    "    n_comp_7.append(i)\n",
    "    bics_7.append(gmm.bic(X_scaled))  #Put the BIC score into a list\n",
    "\n",
    "a7=score_7.index(max(score_7))\n",
    "b7=bics_7.index(min(bics_7))\n",
    "\n",
    "print('The score is', score_7[a7],'\\n'\n",
    "     'The lowest BIC is:',bics_7[b7],'with these weights',n_comp_7[b7])  #Show the best solution"
   ]
  },
  {
   "cell_type": "code",
   "execution_count": 6,
   "metadata": {},
   "outputs": [
    {
     "name": "stdout",
     "output_type": "stream",
     "text": [
      "The score is 0.06350837266673748 \n",
      "The lowest BIC is: 77628.31845546338 with these weights [0.11 0.11 0.23 0.11 0.11 0.11 0.11 0.11]\n"
     ]
    }
   ],
   "source": [
    "weights_8=[np.array([1/8]*8),np.array([0.11,0.11,0.11,0.11,0.11,0.11,0.11,0.23]),\n",
    "          np.array([0.23,0.11,0.11,0.11,0.11,0.11,0.11,0.11]),np.array([0.11,0.23,0.11,0.11,0.11,0.11,0.11,0.11]),\n",
    "          np.array([0.11,0.11,0.23,0.11,0.11,0.11,0.11,0.11]),np.array([0.11,0.11,0.11,0.23,0.11,0.11,0.11,0.11]),\n",
    "          np.array([0.11,0.11,0.11,0.11,0.23,0.11,0.11,0.11]),np.array([0.11,0.11,0.11,0.11,0.11,0.23,0.11,0.11]),\n",
    "          np.array([0.11,0.11,0.11,0.11,0.11,0.11,0.23,0.11])]  #Values for init weights.\n",
    "random_state=1\n",
    "score_8=[]\n",
    "n_comp_8=[]\n",
    "bics_8=[]\n",
    "\n",
    "for i in weights_8:\n",
    "    gmm=GaussianMixture(n_components=8,random_state=random_state,weights_init=i,\n",
    "        covariance_type='full',n_init=10)  #Apply GMM with 8 clusters\n",
    "    em_labels=gmm.fit_predict(X_scaled)\n",
    "    sh_score = silhouette_score(X_scaled, em_labels)\n",
    "    score_8.append(sh_score)\n",
    "    n_comp_8.append(i)\n",
    "    bics_8.append(gmm.bic(X_scaled))  #Put the BIC score into a list\n",
    "\n",
    "a8=score_8.index(max(score_8))\n",
    "b8=bics_8.index(min(bics_8))\n",
    "\n",
    "print('The score is', score_8[a8],'\\n'\n",
    "     'The lowest BIC is:',bics_8[b8],'with these weights',n_comp_8[b8])  #Show the best solution"
   ]
  },
  {
   "cell_type": "code",
   "execution_count": 7,
   "metadata": {},
   "outputs": [
    {
     "name": "stdout",
     "output_type": "stream",
     "text": [
      "The score is 0.08123381282926138 \n",
      "The lowest BIC is: 83600.63534662119 with these weights [0.1 0.1 0.1 0.1 0.2 0.1 0.1 0.1 0.1]\n"
     ]
    }
   ],
   "source": [
    "weights_9=[np.array([1/9]*9),np.array([0.1,0.1,0.1,0.1,0.1,0.1,0.1,0.1,0.2]),\n",
    "          np.array([0.2,0.1,0.1,0.1,0.1,0.1,0.1,0.1,0.1]),np.array([0.1,0.2,0.1,0.1,0.1,0.1,0.1,0.1,0.1]),\n",
    "          np.array([0.1,0.1,0.2,0.1,0.1,0.1,0.1,0.1,0.1]),np.array([0.1,0.1,0.1,0.2,0.1,0.1,0.1,0.1,0.1]),\n",
    "          np.array([0.1,0.1,0.1,0.1,0.2,0.1,0.1,0.1,0.1]),np.array([0.1,0.1,0.1,0.1,0.1,0.2,0.1,0.1,0.1]),\n",
    "          np.array([0.1,0.1,0.1,0.1,0.1,0.1,0.2,0.1,0.1]),np.array([0.1,0.1,0.1,0.1,0.1,0.1,0.1,0.2,0.1])]\n",
    "#Values for init weights.\n",
    "random_state=1\n",
    "score_9=[]\n",
    "n_comp_9=[]\n",
    "bics_9=[]\n",
    "\n",
    "for i in weights_9:\n",
    "    gmm=GaussianMixture(n_components=9,random_state=random_state,weights_init=i,\n",
    "        covariance_type='full',n_init=10)  #Apply GMM with 9 clusters\n",
    "    em_labels=gmm.fit_predict(X_scaled)\n",
    "    sh_score = silhouette_score(X_scaled, em_labels)\n",
    "    score_9.append(sh_score)\n",
    "    n_comp_9.append(i)\n",
    "    bics_9.append(gmm.bic(X_scaled))  #Put the BIC score into a list\n",
    "\n",
    "a9=score_9.index(max(score_9))\n",
    "b9=bics_9.index(min(bics_9))\n",
    "\n",
    "print('The score is', score_9[a9],'\\n'\n",
    "     'The lowest BIC is:',bics_9[b9],'with these weights',n_comp_9[b9])  #Show the best solution"
   ]
  },
  {
   "cell_type": "code",
   "execution_count": 8,
   "metadata": {},
   "outputs": [
    {
     "name": "stdout",
     "output_type": "stream",
     "text": [
      "The score is 0.05998188650719177 \n",
      "The lowest BIC is: 81047.52485374041 with these weights [0.05 0.15 0.05 0.15 0.05 0.15 0.05 0.15 0.05 0.15]\n"
     ]
    }
   ],
   "source": [
    "weights_10=[np.array([1/10]*10),np.array([0.15,0.05]*5),np.array([0.05,0.15]*5),np.array([0.19,0.01]*5),\n",
    "          np.array([0.01,0.19]*5),np.array([0.12,0.08]*5),np.array([0.08,0.12]*5)]  #Values for init weights.\n",
    "random_state=1\n",
    "score_10=[]\n",
    "n_comp_10=[]\n",
    "bics_10=[]\n",
    "\n",
    "for i in weights_10:\n",
    "    gmm=GaussianMixture(n_components=10,random_state=random_state,weights_init=i,\n",
    "        covariance_type='full',n_init=10)  #Apply GMM with 10 clusters\n",
    "    em_labels=gmm.fit_predict(X_scaled)\n",
    "    sh_score = silhouette_score(X_scaled, em_labels)\n",
    "    score_10.append(sh_score)\n",
    "    n_comp_10.append(i)\n",
    "    bics_10.append(gmm.bic(X_scaled))  #Put the BIC score into a list\n",
    "\n",
    "a10=score_10.index(max(score_10))\n",
    "b10=bics_10.index(min(bics_10))\n",
    "\n",
    "print('The score is', score_10[a10],'\\n'\n",
    "     'The lowest BIC is:',bics_10[b10],'with these weights',n_comp_10[b10])  #Show the best solution"
   ]
  },
  {
   "cell_type": "code",
   "execution_count": 9,
   "metadata": {},
   "outputs": [
    {
     "name": "stdout",
     "output_type": "stream",
     "text": [
      "The score is 0.02664022903333995 \n",
      "The lowest BIC is: 78946.79232357813 with these weights [0.09 0.09 0.09 0.09 0.1  0.09 0.09 0.09 0.09 0.09 0.09]\n"
     ]
    }
   ],
   "source": [
    "weights_11=[np.array([1/11]*11),np.array([0.09,0.09,0.09,0.09,0.09,0.09,0.09,0.09,0.09,0.09,0.1]),\n",
    "            np.array([0.1,0.09,0.09,0.09,0.09,0.09,0.09,0.09,0.09,0.09,0.09]),\n",
    "            np.array([0.09,0.1,0.09,0.09,0.09,0.09,0.09,0.09,0.09,0.09,0.09]),\n",
    "            np.array([0.09,0.09,0.1,0.09,0.09,0.09,0.09,0.09,0.09,0.09,0.09]),\n",
    "            np.array([0.09,0.09,0.09,0.1,0.09,0.09,0.09,0.09,0.09,0.09,0.09]),\n",
    "            np.array([0.09,0.09,0.09,0.09,0.1,0.09,0.09,0.09,0.09,0.09,0.09]),\n",
    "            np.array([0.09,0.09,0.09,0.09,0.09,0.1,0.09,0.09,0.09,0.09,0.09]),\n",
    "            np.array([0.09,0.09,0.09,0.09,0.09,0.09,0.1,0.09,0.09,0.09,0.09]),\n",
    "            np.array([0.09,0.09,0.09,0.09,0.09,0.09,0.09,0.1,0.09,0.09,0.09]),\n",
    "            np.array([0.09,0.09,0.09,0.09,0.09,0.09,0.09,0.09,0.1,0.09,0.09]),\n",
    "            np.array([0.09,0.09,0.09,0.09,0.09,0.09,0.09,0.09,0.09,0.1,0.09])]  #Values for init weights.\n",
    "\n",
    "random_state=1\n",
    "score_11=[]\n",
    "n_comp_11=[]\n",
    "bics_11=[]\n",
    "\n",
    "for i in weights_11:\n",
    "    gmm=GaussianMixture(n_components=11,random_state=random_state,weights_init=i,\n",
    "        covariance_type='full',n_init=10)  #Apply GMM with 11 clusters\n",
    "    em_labels=gmm.fit_predict(X_scaled)\n",
    "    sh_score = silhouette_score(X_scaled, em_labels)\n",
    "    score_11.append(sh_score)\n",
    "    n_comp_11.append(i)\n",
    "    bics_11.append(gmm.bic(X_scaled))  #Put the BIC score into a list\n",
    "\n",
    "a11=score_11.index(max(score_11))\n",
    "b11=bics_11.index(min(bics_11))\n",
    "\n",
    "print('The score is', score_11[a11],'\\n'\n",
    "     'The lowest BIC is:',bics_11[b11],'with these weights',n_comp_11[b11])  #Show the best solution"
   ]
  },
  {
   "cell_type": "code",
   "execution_count": 10,
   "metadata": {},
   "outputs": [
    {
     "name": "stdout",
     "output_type": "stream",
     "text": [
      "The score is 0.023857940514725832 \n",
      "The lowest BIC is: 78084.77203192771 with these weights [0.075 0.075 0.075 0.075 0.075 0.075 0.175 0.075 0.075 0.075 0.075 0.075]\n"
     ]
    }
   ],
   "source": [
    "weights_12=[np.array([1/12]*12),np.array([0.075,0.075,0.075,0.075,0.075,0.075,0.075,0.075,0.075,0.075,0.075,0.175]),\n",
    "            np.array([0.175,0.075,0.075,0.075,0.075,0.075,0.075,0.075,0.075,0.075,0.075,0.075]),\n",
    "            np.array([0.075,0.175,0.075,0.075,0.075,0.075,0.075,0.075,0.075,0.075,0.075,0.075]),\n",
    "            np.array([0.075,0.075,0.175,0.075,0.075,0.075,0.075,0.075,0.075,0.075,0.075,0.075]),\n",
    "            np.array([0.075,0.075,0.075,0.175,0.075,0.075,0.075,0.075,0.075,0.075,0.075,0.075]),\n",
    "            np.array([0.075,0.075,0.075,0.075,0.175,0.075,0.075,0.075,0.075,0.075,0.075,0.075]),\n",
    "            np.array([0.075,0.075,0.075,0.075,0.075,0.175,0.075,0.075,0.075,0.075,0.075,0.075]),\n",
    "            np.array([0.075,0.075,0.075,0.075,0.075,0.075,0.175,0.075,0.075,0.075,0.075,0.075]),\n",
    "            np.array([0.075,0.075,0.075,0.075,0.075,0.075,0.075,0.175,0.075,0.075,0.075,0.075]),\n",
    "            np.array([0.075,0.075,0.075,0.075,0.075,0.075,0.075,0.075,0.175,0.075,0.075,0.075]),\n",
    "            np.array([0.075,0.075,0.075,0.075,0.075,0.075,0.075,0.075,0.075,0.175,0.075,0.075]),\n",
    "            np.array([0.075,0.075,0.075,0.075,0.075,0.075,0.075,0.075,0.075,0.075,0.175,0.075])]\n",
    "            #Values for init weights.\n",
    "random_state=1\n",
    "score_12=[]\n",
    "n_comp_12=[]\n",
    "bics_12=[]\n",
    "\n",
    "for i in weights_12:\n",
    "    gmm=GaussianMixture(n_components=12,random_state=random_state,weights_init=i,\n",
    "        covariance_type='full',n_init=10)  #Apply GMM with 12 clusters\n",
    "    em_labels=gmm.fit_predict(X_scaled)\n",
    "    sh_score = silhouette_score(X_scaled, em_labels)\n",
    "    score_12.append(sh_score)\n",
    "    n_comp_12.append(i)\n",
    "    bics_12.append(gmm.bic(X_scaled))  #Put the BIC score into a list\n",
    "\n",
    "a12=score_12.index(max(score_12))\n",
    "b12=bics_12.index(min(bics_12))\n",
    "\n",
    "print('The score is', score_12[a12],'\\n'\n",
    "     'The lowest BIC is:',bics_12[b12],'with these weights',n_comp_12[b12])  #Show the best solution"
   ]
  },
  {
   "cell_type": "code",
   "execution_count": 11,
   "metadata": {},
   "outputs": [],
   "source": [
    "#List with all the best BIC's for each initialization\n",
    "all_bics=[bics[b],bics_7[b7],bics_8[b8],bics_9[b9],bics_10[b10],bics_11[b11],bics_12[b12]]"
   ]
  },
  {
   "cell_type": "code",
   "execution_count": 12,
   "metadata": {},
   "outputs": [
    {
     "data": {
      "text/plain": [
       "Text(0.5, 0.98, 'BIC Initializing Weights')"
      ]
     },
     "execution_count": 12,
     "metadata": {},
     "output_type": "execute_result"
    },
    {
     "data": {
      "image/png": "[encoded data removed]",
      "text/plain": [
       "<Figure size 432x288 with 1 Axes>"
      ]
     },
     "metadata": {
      "needs_background": "light"
     },
     "output_type": "display_data"
    }
   ],
   "source": [
    "#Plot of the best BIC's vs the amount of clusters. \n",
    "plt.show()\n",
    "silhouette_fig, ax = plt.subplots()\n",
    "ax.plot(np.arange(6,13,1),all_bics,'-o',color='darkblue')\n",
    "ax.set_xlabel('# of Clusters')\n",
    "ax.set_ylabel('BIC')\n",
    "ax.set_xticks(np.arange(6, 13, 1))\n",
    "ax.set_title('Bayesian Information Criterion',color='darkblue')\n",
    "silhouette_fig.suptitle('BIC Initializing Weights',color='red', weight = 'bold', size = 14)"
   ]
  },
  {
   "cell_type": "raw",
   "metadata": {},
   "source": [
    "The best solution was with 8 clusters. \n",
    "\n",
    "Then the implementation made was by initializing the means of each cluster and the rest of parameters by default. The values that were used are randomly or evenly chosen. "
   ]
  },
  {
   "cell_type": "code",
   "execution_count": 13,
   "metadata": {},
   "outputs": [
    {
     "name": "stdout",
     "output_type": "stream",
     "text": [
      "The score is 0.26309157201359235 \n",
      "The lowest BIC is: 86116.46691727688 with these centers [[0. 0. 0. 0. 0. 0. 0. 0. 0. 0. 0. 0. 0. 0. 0. 0. 0. 0. 0. 0. 0. 0. 0.]\n",
      " [0. 0. 0. 0. 0. 0. 0. 0. 0. 0. 0. 0. 0. 0. 0. 0. 0. 0. 0. 0. 0. 0. 0.]\n",
      " [0. 0. 0. 0. 0. 0. 0. 0. 0. 0. 0. 0. 0. 0. 0. 0. 0. 0. 0. 0. 0. 0. 0.]\n",
      " [0. 0. 0. 0. 0. 0. 0. 0. 0. 0. 0. 0. 0. 0. 0. 0. 0. 0. 0. 0. 0. 0. 0.]\n",
      " [0. 0. 0. 0. 0. 0. 0. 0. 0. 0. 0. 0. 0. 0. 0. 0. 0. 0. 0. 0. 0. 0. 0.]\n",
      " [0. 0. 0. 0. 0. 0. 0. 0. 0. 0. 0. 0. 0. 0. 0. 0. 0. 0. 0. 0. 0. 0. 0.]]\n"
     ]
    }
   ],
   "source": [
    "mean_1=np.array([[0.08]*23,[-0.03]*23,[0.3]*23,[-0.2]*23,[-0.02]*23,[0]*23])\n",
    "mean_2=np.zeros((6,23))\n",
    "mean_3=np.ones((6,23))\n",
    "mean_4=np.ones((6,23))*-1\n",
    "mean_5=np.array([[0.5]*23,[-0.5]*23,[0.5]*23,[-0.5]*23,[0.5]*23,[-0.5]*23])\n",
    "mean_6=np.array([[0.1]*23,[0.2]*23,[0.3]*23,[0.4]*23,[0.5]*23,[0.6]*23])\n",
    "means_6cl=[]\n",
    "means_6cl.append(mean_1)\n",
    "means_6cl.append(mean_2)\n",
    "means_6cl.append(mean_3)\n",
    "means_6cl.append(mean_4)\n",
    "means_6cl.append(mean_5)\n",
    "means_6cl.append(mean_6)  #Means list with all the possible values. \n",
    "\n",
    "random_state=1\n",
    "score=[]\n",
    "n_comp=[]\n",
    "bics=[]\n",
    "\n",
    "for i in means_6cl:\n",
    "    gmm=GaussianMixture(n_components=6,random_state=random_state,means_init=i,\n",
    "        covariance_type='full',n_init=10)   #Apply GMM with 6 clusters\n",
    "    em_labels=gmm.fit_predict(X_scaled)\n",
    "    sh_score = silhouette_score(X_scaled, em_labels)\n",
    "    score.append(sh_score)\n",
    "    n_comp.append(i)\n",
    "    bics.append(gmm.bic(X_scaled))\n",
    "\n",
    "a=score.index(max(score))\n",
    "b=bics.index(min(bics))\n",
    "\n",
    "print('The score is', score[a],'\\n'\n",
    "     'The lowest BIC is:',bics[b],'with these centers',n_comp[b])   #Show the best solution"
   ]
  },
  {
   "cell_type": "code",
   "execution_count": 14,
   "metadata": {},
   "outputs": [
    {
     "name": "stdout",
     "output_type": "stream",
     "text": [
      "The score is 0.36543158844880497 \n",
      "The lowest BIC is: 84245.72625328609 with these centers [[0. 0. 0. 0. 0. 0. 0. 0. 0. 0. 0. 0. 0. 0. 0. 0. 0. 0. 0. 0. 0. 0. 0.]\n",
      " [0. 0. 0. 0. 0. 0. 0. 0. 0. 0. 0. 0. 0. 0. 0. 0. 0. 0. 0. 0. 0. 0. 0.]\n",
      " [0. 0. 0. 0. 0. 0. 0. 0. 0. 0. 0. 0. 0. 0. 0. 0. 0. 0. 0. 0. 0. 0. 0.]\n",
      " [0. 0. 0. 0. 0. 0. 0. 0. 0. 0. 0. 0. 0. 0. 0. 0. 0. 0. 0. 0. 0. 0. 0.]\n",
      " [0. 0. 0. 0. 0. 0. 0. 0. 0. 0. 0. 0. 0. 0. 0. 0. 0. 0. 0. 0. 0. 0. 0.]\n",
      " [0. 0. 0. 0. 0. 0. 0. 0. 0. 0. 0. 0. 0. 0. 0. 0. 0. 0. 0. 0. 0. 0. 0.]\n",
      " [0. 0. 0. 0. 0. 0. 0. 0. 0. 0. 0. 0. 0. 0. 0. 0. 0. 0. 0. 0. 0. 0. 0.]]\n"
     ]
    }
   ],
   "source": [
    "mean7_1=np.array([[-0.03]*23,[-0.01]*23,[-0.1]*23,[0.3]*23,[0]*23,[0.2]*23,[-0.2]*23])\n",
    "mean7_2=np.zeros((7,23))\n",
    "mean7_3=np.ones((7,23))\n",
    "mean7_4=np.ones((7,23))*-1\n",
    "mean7_5=np.array([[0.5]*23,[-0.5]*23,[0.5]*23,[-0.5]*23,[0.5]*23,[-0.5]*23,[0.5]*23])\n",
    "mean7_6=np.array([[0.1]*23,[0.2]*23,[0.3]*23,[0.4]*23,[0.5]*23,[0.6]*23,[0.7]*23])\n",
    "means_7cl=[]\n",
    "means_7cl.append(mean7_1)\n",
    "means_7cl.append(mean7_2)\n",
    "means_7cl.append(mean7_3)\n",
    "means_7cl.append(mean7_4)\n",
    "means_7cl.append(mean7_5)\n",
    "means_7cl.append(mean7_6)   #Means list with all the possible values. \n",
    "\n",
    "random_state=1\n",
    "score_7=[]\n",
    "n_comp_7=[]\n",
    "bics_7=[]\n",
    "\n",
    "for i in means_7cl:\n",
    "    gmm=GaussianMixture(n_components=7,random_state=random_state,means_init=i,\n",
    "        covariance_type='full',n_init=10)   #Apply GMM with 7 clusters\n",
    "    em_labels=gmm.fit_predict(X_scaled)\n",
    "    sh_score = silhouette_score(X_scaled, em_labels)\n",
    "    score_7.append(sh_score)\n",
    "    n_comp_7.append(i)\n",
    "    bics_7.append(gmm.bic(X_scaled))\n",
    "\n",
    "a7=score_7.index(max(score_7))\n",
    "b7=bics_7.index(min(bics_7))\n",
    "\n",
    "print('The score is', score_7[a7],'\\n'\n",
    "     'The lowest BIC is:',bics_7[b7],'with these centers',n_comp_7[b7])   #Show the best solution"
   ]
  },
  {
   "cell_type": "code",
   "execution_count": 15,
   "metadata": {},
   "outputs": [
    {
     "name": "stdout",
     "output_type": "stream",
     "text": [
      "The score is 0.2604677124028972 \n",
      "The lowest BIC is: 84831.47791703888 with these centers [[0. 0. 0. 0. 0. 0. 0. 0. 0. 0. 0. 0. 0. 0. 0. 0. 0. 0. 0. 0. 0. 0. 0.]\n",
      " [0. 0. 0. 0. 0. 0. 0. 0. 0. 0. 0. 0. 0. 0. 0. 0. 0. 0. 0. 0. 0. 0. 0.]\n",
      " [0. 0. 0. 0. 0. 0. 0. 0. 0. 0. 0. 0. 0. 0. 0. 0. 0. 0. 0. 0. 0. 0. 0.]\n",
      " [0. 0. 0. 0. 0. 0. 0. 0. 0. 0. 0. 0. 0. 0. 0. 0. 0. 0. 0. 0. 0. 0. 0.]\n",
      " [0. 0. 0. 0. 0. 0. 0. 0. 0. 0. 0. 0. 0. 0. 0. 0. 0. 0. 0. 0. 0. 0. 0.]\n",
      " [0. 0. 0. 0. 0. 0. 0. 0. 0. 0. 0. 0. 0. 0. 0. 0. 0. 0. 0. 0. 0. 0. 0.]\n",
      " [0. 0. 0. 0. 0. 0. 0. 0. 0. 0. 0. 0. 0. 0. 0. 0. 0. 0. 0. 0. 0. 0. 0.]\n",
      " [0. 0. 0. 0. 0. 0. 0. 0. 0. 0. 0. 0. 0. 0. 0. 0. 0. 0. 0. 0. 0. 0. 0.]]\n"
     ]
    }
   ],
   "source": [
    "mean8_1=np.array([[0.28]*23,[-0.15]*23,[-0.17]*23,[0.25]*23,[0.01]*23,[-0.01]*23,[-0.2]*23,[-0.1]*23])\n",
    "mean8_2=np.zeros((8,23))\n",
    "mean8_3=np.ones((8,23))\n",
    "mean8_4=np.ones((8,23))*-1\n",
    "mean8_5=np.array([[0.1]*23,[-0.1]*23,[0.1]*23,[-0.1]*23,[0.1]*23,[-0.1]*23,[0.1]*23,[-0.1]*23])\n",
    "mean8_6=np.array([[0.1]*23,[0.2]*23,[0.3]*23,[0.4]*23,[0.5]*23,[0.6]*23,[0.7]*23,[0.8]*23])\n",
    "means_8cl=[]\n",
    "means_8cl.append(mean8_1)\n",
    "means_8cl.append(mean8_2)\n",
    "means_8cl.append(mean8_3)\n",
    "means_8cl.append(mean8_4)\n",
    "means_8cl.append(mean8_5)\n",
    "means_8cl.append(mean8_6)   #Means list with all the possible values. \n",
    "\n",
    "random_state=1\n",
    "score_8=[]\n",
    "n_comp_8=[]\n",
    "bics_8=[]\n",
    "\n",
    "for i in means_8cl:\n",
    "    gmm=GaussianMixture(n_components=8,random_state=random_state,means_init=i,\n",
    "        covariance_type='full',n_init=10)   #Apply GMM with 8 clusters\n",
    "    em_labels=gmm.fit_predict(X_scaled)\n",
    "    sh_score = silhouette_score(X_scaled, em_labels)\n",
    "    score_8.append(sh_score)\n",
    "    n_comp_8.append(i)\n",
    "    bics_8.append(gmm.bic(X_scaled))\n",
    "\n",
    "a8=score_8.index(max(score_8))\n",
    "b8=bics_8.index(min(bics_8))\n",
    "\n",
    "print('The score is', score_8[a8],'\\n'\n",
    "     'The lowest BIC is:',bics_8[b8],'with these centers',n_comp_8[b8])   #Show the best solution"
   ]
  },
  {
   "cell_type": "code",
   "execution_count": 16,
   "metadata": {},
   "outputs": [
    {
     "name": "stdout",
     "output_type": "stream",
     "text": [
      "The score is 0.2604677124028972 \n",
      "The lowest BIC is: 85674.67013151757 with these centers [[0. 0. 0. 0. 0. 0. 0. 0. 0. 0. 0. 0. 0. 0. 0. 0. 0. 0. 0. 0. 0. 0. 0.]\n",
      " [0. 0. 0. 0. 0. 0. 0. 0. 0. 0. 0. 0. 0. 0. 0. 0. 0. 0. 0. 0. 0. 0. 0.]\n",
      " [0. 0. 0. 0. 0. 0. 0. 0. 0. 0. 0. 0. 0. 0. 0. 0. 0. 0. 0. 0. 0. 0. 0.]\n",
      " [0. 0. 0. 0. 0. 0. 0. 0. 0. 0. 0. 0. 0. 0. 0. 0. 0. 0. 0. 0. 0. 0. 0.]\n",
      " [0. 0. 0. 0. 0. 0. 0. 0. 0. 0. 0. 0. 0. 0. 0. 0. 0. 0. 0. 0. 0. 0. 0.]\n",
      " [0. 0. 0. 0. 0. 0. 0. 0. 0. 0. 0. 0. 0. 0. 0. 0. 0. 0. 0. 0. 0. 0. 0.]\n",
      " [0. 0. 0. 0. 0. 0. 0. 0. 0. 0. 0. 0. 0. 0. 0. 0. 0. 0. 0. 0. 0. 0. 0.]\n",
      " [0. 0. 0. 0. 0. 0. 0. 0. 0. 0. 0. 0. 0. 0. 0. 0. 0. 0. 0. 0. 0. 0. 0.]\n",
      " [0. 0. 0. 0. 0. 0. 0. 0. 0. 0. 0. 0. 0. 0. 0. 0. 0. 0. 0. 0. 0. 0. 0.]]\n"
     ]
    }
   ],
   "source": [
    "mean9_1=np.array([[-0.25]*23,[-0.07]*23,[0.2]*23,[0.2]*23,[0.05]*23,[3.3]*23,[-0.1]*23,[0.15]*23,[0]*23])\n",
    "mean9_2=np.zeros((9,23))\n",
    "mean9_3=np.ones((9,23))\n",
    "mean9_4=np.ones((9,23))*-1\n",
    "mean9_5=np.array([[0.1]*23,[-0.1]*23,[0.1]*23,[-0.1]*23,[0.1]*23,[-0.1]*23,[0.1]*23,[-0.1]*23,[0.1]*23])\n",
    "mean9_6=np.array([[0.1]*23,[0.2]*23,[0.3]*23,[0.4]*23,[0.5]*23,[0.6]*23,[0.7]*23,[0.8]*23,[0.9]*23])\n",
    "means_9cl=[]\n",
    "means_9cl.append(mean9_1)\n",
    "means_9cl.append(mean9_2)\n",
    "means_9cl.append(mean9_3)\n",
    "means_9cl.append(mean9_4)\n",
    "means_9cl.append(mean9_5)\n",
    "means_9cl.append(mean9_6)   #Means list with all the possible values. \n",
    "\n",
    "random_state=1\n",
    "score_9=[]\n",
    "n_comp_9=[]\n",
    "bics_9=[]\n",
    "\n",
    "for i in means_9cl:\n",
    "    gmm=GaussianMixture(n_components=9,random_state=random_state,means_init=i,\n",
    "        covariance_type='full',n_init=10)   #Apply GMM with 9 clusters\n",
    "    em_labels=gmm.fit_predict(X_scaled)\n",
    "    sh_score = silhouette_score(X_scaled, em_labels)\n",
    "    score_9.append(sh_score)\n",
    "    n_comp_9.append(i)\n",
    "    bics_9.append(gmm.bic(X_scaled))\n",
    "\n",
    "a9=score_9.index(max(score_9))\n",
    "b9=bics_9.index(min(bics_9))\n",
    "\n",
    "print('The score is', score_9[a9],'\\n'\n",
    "     'The lowest BIC is:',bics_9[b9],'with these centers',n_comp_9[b9])   #Show the best solution"
   ]
  },
  {
   "cell_type": "code",
   "execution_count": 17,
   "metadata": {},
   "outputs": [
    {
     "name": "stdout",
     "output_type": "stream",
     "text": [
      "The score is 0.2606887890232706 \n",
      "The lowest BIC is: 82671.0311039428 with these centers [[0. 0. 0. 0. 0. 0. 0. 0. 0. 0. 0. 0. 0. 0. 0. 0. 0. 0. 0. 0. 0. 0. 0.]\n",
      " [0. 0. 0. 0. 0. 0. 0. 0. 0. 0. 0. 0. 0. 0. 0. 0. 0. 0. 0. 0. 0. 0. 0.]\n",
      " [0. 0. 0. 0. 0. 0. 0. 0. 0. 0. 0. 0. 0. 0. 0. 0. 0. 0. 0. 0. 0. 0. 0.]\n",
      " [0. 0. 0. 0. 0. 0. 0. 0. 0. 0. 0. 0. 0. 0. 0. 0. 0. 0. 0. 0. 0. 0. 0.]\n",
      " [0. 0. 0. 0. 0. 0. 0. 0. 0. 0. 0. 0. 0. 0. 0. 0. 0. 0. 0. 0. 0. 0. 0.]\n",
      " [0. 0. 0. 0. 0. 0. 0. 0. 0. 0. 0. 0. 0. 0. 0. 0. 0. 0. 0. 0. 0. 0. 0.]\n",
      " [0. 0. 0. 0. 0. 0. 0. 0. 0. 0. 0. 0. 0. 0. 0. 0. 0. 0. 0. 0. 0. 0. 0.]\n",
      " [0. 0. 0. 0. 0. 0. 0. 0. 0. 0. 0. 0. 0. 0. 0. 0. 0. 0. 0. 0. 0. 0. 0.]\n",
      " [0. 0. 0. 0. 0. 0. 0. 0. 0. 0. 0. 0. 0. 0. 0. 0. 0. 0. 0. 0. 0. 0. 0.]\n",
      " [0. 0. 0. 0. 0. 0. 0. 0. 0. 0. 0. 0. 0. 0. 0. 0. 0. 0. 0. 0. 0. 0. 0.]]\n"
     ]
    }
   ],
   "source": [
    "mean10_1=np.array([[0.15]*23,[-0.1]*23,[0]*23,[0]*23,[0.2]*23,[-0.2]*23,[0.35]*23,[-0.17]*23,[-0.1]*23,[0.05]*23])\n",
    "mean10_2=np.zeros((10,23))\n",
    "mean10_3=np.ones((10,23))\n",
    "mean10_4=np.ones((10,23))*-1\n",
    "mean10_5=np.array([[0.1]*23,[-0.1]*23,[0.1]*23,[-0.1]*23,[0.1]*23,[-0.1]*23,[0.1]*23,[-0.1]*23,[0.1]*23,[-0.1]*23])\n",
    "mean10_6=np.array([[0.1]*23,[0.2]*23,[0.3]*23,[0.4]*23,[0.5]*23,[0.6]*23,[0.7]*23,[0.8]*23,[0.9]*23,[1]*23])\n",
    "means_10cl=[]\n",
    "means_10cl.append(mean10_1)\n",
    "means_10cl.append(mean10_2)\n",
    "means_10cl.append(mean10_3)\n",
    "means_10cl.append(mean10_4)\n",
    "means_10cl.append(mean10_5)\n",
    "means_10cl.append(mean10_6)   #Means list with all the possible values. \n",
    "\n",
    "random_state=1\n",
    "score_10=[]\n",
    "n_comp_10=[]\n",
    "bics_10=[]\n",
    "\n",
    "for i in means_10cl:\n",
    "    gmm=GaussianMixture(n_components=10,random_state=random_state,means_init=i,\n",
    "        covariance_type='full',n_init=10)   #Apply GMM with 10 clusters\n",
    "    em_labels=gmm.fit_predict(X_scaled)\n",
    "    sh_score = silhouette_score(X_scaled, em_labels)\n",
    "    score_10.append(sh_score)\n",
    "    n_comp_10.append(i)\n",
    "    bics_10.append(gmm.bic(X_scaled))\n",
    "\n",
    "a10=score_10.index(max(score_10))\n",
    "b10=bics_10.index(min(bics_10))\n",
    "\n",
    "print('The score is', score_10[a10],'\\n'\n",
    "     'The lowest BIC is:',bics_10[b10],'with these centers',n_comp_10[b10])   #Show the best solution"
   ]
  },
  {
   "cell_type": "code",
   "execution_count": 18,
   "metadata": {},
   "outputs": [
    {
     "name": "stdout",
     "output_type": "stream",
     "text": [
      "The score is 0.28379038174458454 \n",
      "The lowest BIC is: 83012.62823894636 with these centers [[0. 0. 0. 0. 0. 0. 0. 0. 0. 0. 0. 0. 0. 0. 0. 0. 0. 0. 0. 0. 0. 0. 0.]\n",
      " [0. 0. 0. 0. 0. 0. 0. 0. 0. 0. 0. 0. 0. 0. 0. 0. 0. 0. 0. 0. 0. 0. 0.]\n",
      " [0. 0. 0. 0. 0. 0. 0. 0. 0. 0. 0. 0. 0. 0. 0. 0. 0. 0. 0. 0. 0. 0. 0.]\n",
      " [0. 0. 0. 0. 0. 0. 0. 0. 0. 0. 0. 0. 0. 0. 0. 0. 0. 0. 0. 0. 0. 0. 0.]\n",
      " [0. 0. 0. 0. 0. 0. 0. 0. 0. 0. 0. 0. 0. 0. 0. 0. 0. 0. 0. 0. 0. 0. 0.]\n",
      " [0. 0. 0. 0. 0. 0. 0. 0. 0. 0. 0. 0. 0. 0. 0. 0. 0. 0. 0. 0. 0. 0. 0.]\n",
      " [0. 0. 0. 0. 0. 0. 0. 0. 0. 0. 0. 0. 0. 0. 0. 0. 0. 0. 0. 0. 0. 0. 0.]\n",
      " [0. 0. 0. 0. 0. 0. 0. 0. 0. 0. 0. 0. 0. 0. 0. 0. 0. 0. 0. 0. 0. 0. 0.]\n",
      " [0. 0. 0. 0. 0. 0. 0. 0. 0. 0. 0. 0. 0. 0. 0. 0. 0. 0. 0. 0. 0. 0. 0.]\n",
      " [0. 0. 0. 0. 0. 0. 0. 0. 0. 0. 0. 0. 0. 0. 0. 0. 0. 0. 0. 0. 0. 0. 0.]\n",
      " [0. 0. 0. 0. 0. 0. 0. 0. 0. 0. 0. 0. 0. 0. 0. 0. 0. 0. 0. 0. 0. 0. 0.]]\n"
     ]
    }
   ],
   "source": [
    "mean11_1=np.array([[0]*23,[-0.1]*23,[-0.2]*23,[-0.1]*23,[-0.15]*23,[0.3]*23,[0.02]*23,[-0.2]*23,[0.35]*23,[0.15]*23,[0.2]*23])\n",
    "mean11_2=np.zeros((11,23))\n",
    "mean11_3=np.ones((11,23))\n",
    "mean11_4=np.ones((11,23))*-1\n",
    "mean11_5=np.array([[0.1]*23,[-0.1]*23,[0.1]*23,[-0.1]*23,[0.1]*23,[-0.1]*23,[0.1]*23,[-0.1]*23,[0.1]*23,[-0.1]*23,[0.1]*23])\n",
    "mean11_6=np.array([[0.1]*23,[0.2]*23,[0.3]*23,[0.4]*23,[0.5]*23,[0.6]*23,[0.7]*23,[0.8]*23,[0.9]*23,[1]*23,[0.9]*23])\n",
    "means_11cl=[]\n",
    "means_11cl.append(mean11_1)\n",
    "means_11cl.append(mean11_2)\n",
    "means_11cl.append(mean11_3)\n",
    "means_11cl.append(mean11_4)\n",
    "means_11cl.append(mean11_5)\n",
    "means_11cl.append(mean11_6)   #Means list with all the possible values. \n",
    "\n",
    "random_state=1\n",
    "score_11=[]\n",
    "n_comp_11=[]\n",
    "bics_11=[]\n",
    "\n",
    "for i in means_11cl:\n",
    "    gmm=GaussianMixture(n_components=11,random_state=random_state,means_init=i,\n",
    "        covariance_type='full',n_init=10)   #Apply GMM with 11 clusters\n",
    "    em_labels=gmm.fit_predict(X_scaled)\n",
    "    sh_score = silhouette_score(X_scaled, em_labels)\n",
    "    score_11.append(sh_score)\n",
    "    n_comp_11.append(i)\n",
    "    bics_11.append(gmm.bic(X_scaled))\n",
    "\n",
    "a11=score_11.index(max(score_11))\n",
    "b11=bics_11.index(min(bics_11))\n",
    "\n",
    "print('The score is', score_11[a11],'\\n'\n",
    "     'The lowest BIC is:',bics_11[b11],'with these centers',n_comp_11[b11])   #Show the best solution\n"
   ]
  },
  {
   "cell_type": "code",
   "execution_count": 19,
   "metadata": {},
   "outputs": [
    {
     "name": "stdout",
     "output_type": "stream",
     "text": [
      "The score is 0.2604677124028972 \n",
      "The lowest BIC is: 88709.62462618502 with these centers [[0. 0. 0. 0. 0. 0. 0. 0. 0. 0. 0. 0. 0. 0. 0. 0. 0. 0. 0. 0. 0. 0. 0.]\n",
      " [0. 0. 0. 0. 0. 0. 0. 0. 0. 0. 0. 0. 0. 0. 0. 0. 0. 0. 0. 0. 0. 0. 0.]\n",
      " [0. 0. 0. 0. 0. 0. 0. 0. 0. 0. 0. 0. 0. 0. 0. 0. 0. 0. 0. 0. 0. 0. 0.]\n",
      " [0. 0. 0. 0. 0. 0. 0. 0. 0. 0. 0. 0. 0. 0. 0. 0. 0. 0. 0. 0. 0. 0. 0.]\n",
      " [0. 0. 0. 0. 0. 0. 0. 0. 0. 0. 0. 0. 0. 0. 0. 0. 0. 0. 0. 0. 0. 0. 0.]\n",
      " [0. 0. 0. 0. 0. 0. 0. 0. 0. 0. 0. 0. 0. 0. 0. 0. 0. 0. 0. 0. 0. 0. 0.]\n",
      " [0. 0. 0. 0. 0. 0. 0. 0. 0. 0. 0. 0. 0. 0. 0. 0. 0. 0. 0. 0. 0. 0. 0.]\n",
      " [0. 0. 0. 0. 0. 0. 0. 0. 0. 0. 0. 0. 0. 0. 0. 0. 0. 0. 0. 0. 0. 0. 0.]\n",
      " [0. 0. 0. 0. 0. 0. 0. 0. 0. 0. 0. 0. 0. 0. 0. 0. 0. 0. 0. 0. 0. 0. 0.]\n",
      " [0. 0. 0. 0. 0. 0. 0. 0. 0. 0. 0. 0. 0. 0. 0. 0. 0. 0. 0. 0. 0. 0. 0.]\n",
      " [0. 0. 0. 0. 0. 0. 0. 0. 0. 0. 0. 0. 0. 0. 0. 0. 0. 0. 0. 0. 0. 0. 0.]\n",
      " [0. 0. 0. 0. 0. 0. 0. 0. 0. 0. 0. 0. 0. 0. 0. 0. 0. 0. 0. 0. 0. 0. 0.]]\n"
     ]
    }
   ],
   "source": [
    "mean12_1=np.array([[0]*23,[0]*23,[-0.2]*23,[0.25]*23,[-0.1]*23,[0.3]*23,[0]*23,[-0.25]*23,[0.35]*23,[0.15]*23,[0.15]*23,[-0.1]*23])\n",
    "mean12_2=np.zeros((12,23))\n",
    "mean12_3=np.ones((12,23))\n",
    "mean12_4=np.ones((12,23))*-1\n",
    "mean12_5=np.array([[0.1]*23,[-0.1]*23,[0.1]*23,[-0.1]*23,[0.1]*23,[-0.1]*23,[0.1]*23,[-0.1]*23,[0.1]*23,[-0.1]*23,[0.1]*23,[-0.1]*23])\n",
    "mean12_6=np.array([[0.1]*23,[0.2]*23,[0.3]*23,[0.4]*23,[0.5]*23,[0.6]*23,[0.7]*23,[0.8]*23,[0.9]*23,[1]*23,[0.9]*23,[0.8]*23])\n",
    "means_12cl=[]\n",
    "means_12cl.append(mean12_1)\n",
    "means_12cl.append(mean12_2)\n",
    "means_12cl.append(mean12_3)\n",
    "means_12cl.append(mean12_4)\n",
    "means_12cl.append(mean12_5)\n",
    "means_12cl.append(mean12_6)   #Means list with all the possible values. \n",
    "\n",
    "random_state=1\n",
    "score_12=[]\n",
    "n_comp_12=[]\n",
    "bics_12=[]\n",
    "\n",
    "for i in means_12cl:\n",
    "    gmm=GaussianMixture(n_components=12,random_state=random_state,means_init=i,\n",
    "        covariance_type='full',n_init=10)   #Apply GMM with 12 clusters\n",
    "    em_labels=gmm.fit_predict(X_scaled)\n",
    "    sh_score = silhouette_score(X_scaled, em_labels)\n",
    "    score_12.append(sh_score)\n",
    "    n_comp_12.append(i)\n",
    "    bics_12.append(gmm.bic(X_scaled))\n",
    "\n",
    "a12=score_12.index(max(score_12))\n",
    "b12=bics_12.index(min(bics_12))\n",
    "\n",
    "print('The score is', score_12[a12],'\\n'\n",
    "     'The lowest BIC is:',bics_12[b12],'with these centers',n_comp_12[b12])   #Show the best solution"
   ]
  },
  {
   "cell_type": "code",
   "execution_count": 20,
   "metadata": {},
   "outputs": [],
   "source": [
    "#List with all the best BIC's for each initialization\n",
    "all_bics=[bics[b],bics_7[b7],bics_8[b8],bics_9[b9],bics_10[b10],bics_11[b11],bics_12[b12]]"
   ]
  },
  {
   "cell_type": "code",
   "execution_count": 21,
   "metadata": {},
   "outputs": [
    {
     "data": {
      "text/plain": [
       "Text(0.5, 0.98, 'BIC Initializing Means')"
      ]
     },
     "execution_count": 21,
     "metadata": {},
     "output_type": "execute_result"
    },
    {
     "data": {
      "text/plain": [
       "<Figure size 432x288 with 0 Axes>"
      ]
     },
     "metadata": {},
     "output_type": "display_data"
    },
    {
     "data": {
      "image/png": "[encoded data removed]",
      "text/plain": [
       "<Figure size 432x288 with 1 Axes>"
      ]
     },
     "metadata": {
      "needs_background": "light"
     },
     "output_type": "display_data"
    }
   ],
   "source": [
    "#Plot of the best BIC's vs the amount of clusters. \n",
    "plt.show()\n",
    "plt.suptitle('BIC Initializing Means',color='red')\n",
    "silhouette_fig, ax = plt.subplots()\n",
    "ax.plot(np.arange(6,13,1),all_bics,'-o',color='darkblue')\n",
    "ax.set_xlabel('# of Clusters')\n",
    "ax.set_ylabel('BIC')\n",
    "ax.set_xticks(np.arange(6, 13, 1))\n",
    "ax.set_title('Bayesian Information Criterion',color='darkblue')\n",
    "silhouette_fig.suptitle('BIC Initializing Means',color='red', weight = 'bold', size = 14)"
   ]
  },
  {
   "cell_type": "raw",
   "metadata": {},
   "source": [
    "The best solution was with 10 clusters. \n",
    "\n",
    "Then the implementation made was by initializing the parameters randomly. GMM function allows to do that. "
   ]
  },
  {
   "cell_type": "code",
   "execution_count": 22,
   "metadata": {},
   "outputs": [
    {
     "name": "stdout",
     "output_type": "stream",
     "text": [
      "The lowest BIC is: 79975.33553452103 and the best score is: 0.09984381931907463\n"
     ]
    }
   ],
   "source": [
    "n_clusters=[6,7,8,9,10,11,12,13,14,15,16,17,18]\n",
    "random_state=1\n",
    "score_r=[]\n",
    "n_comp_r=[]\n",
    "bics_r=[]\n",
    "#loop varying the number of cluster between 6 and 18 and getting at the end the lower BIC. \n",
    "for i in n_clusters:\n",
    "    gmm_r=GaussianMixture(n_components=i,random_state=random_state,init_params='random',\n",
    "        covariance_type='full',n_init=10)\n",
    "    em_labels_r=gmm_r.fit_predict(X_scaled)\n",
    "    sh_score_r = silhouette_score(X_scaled, em_labels_r)\n",
    "    score_r.append(sh_score_r)\n",
    "    n_comp_r.append(i)\n",
    "    bics_r.append(gmm_r.bic(X_scaled))\n",
    "\n",
    "a_all_r=score_r.index(max(score_r))\n",
    "b_all_r=bics_r.index(min(bics_r))\n",
    "\n",
    "print('The lowest BIC is:',bics_r[b_all_r], 'and the best score is:',score_r[a_all_r])"
   ]
  },
  {
   "cell_type": "code",
   "execution_count": 23,
   "metadata": {},
   "outputs": [
    {
     "data": {
      "text/plain": [
       "Text(0.5, 0.98, 'BIC Initializing Randomly')"
      ]
     },
     "execution_count": 23,
     "metadata": {},
     "output_type": "execute_result"
    },
    {
     "data": {
      "image/png": "[encoded data removed]",
      "text/plain": [
       "<Figure size 432x288 with 1 Axes>"
      ]
     },
     "metadata": {
      "needs_background": "light"
     },
     "output_type": "display_data"
    }
   ],
   "source": [
    "#Plot of the best BIC's vs the amount of clusters. \n",
    "plt.show()\n",
    "silhouette_fig, ax = plt.subplots()\n",
    "ax.plot(np.arange(6,19,1),bics_r,'-o',color='darkblue')\n",
    "ax.set_xlabel('# of Clusters')\n",
    "ax.set_ylabel('BIC')\n",
    "ax.set_xticks(np.arange(6, 19, 1))\n",
    "ax.set_title('Bayesian Information Criterion',color='darkblue')\n",
    "silhouette_fig.suptitle('BIC Initializing Randomly',color='red', weight = 'bold', size = 14)"
   ]
  },
  {
   "cell_type": "raw",
   "metadata": {},
   "source": [
    "The best solution was with 11 clusters. \n",
    "\n",
    "Then the implementation made was by initializing the parameters with K - MEANS ++. The function runs K - MEANS previously and takes the parameters of this solution to intiialize GMM. "
   ]
  },
  {
   "cell_type": "code",
   "execution_count": 24,
   "metadata": {},
   "outputs": [
    {
     "name": "stdout",
     "output_type": "stream",
     "text": [
      "The lowest BIC is: 77612.23277628879 and the best score is: 0.09361003795162583\n"
     ]
    }
   ],
   "source": [
    "n_clusters=[6,7,8,9,10,11,12,13,14,15,16,17,18]\n",
    "score_n=[]\n",
    "n_comp_n=[]\n",
    "bics_n=[]\n",
    "\n",
    "#loop varying the number of cluster between 6 and 18 and getting at the end the lower BIC. \n",
    "for i in n_clusters:\n",
    "    gmm=GaussianMixture(n_components=i,random_state=random_state,init_params='kmeans',\n",
    "        covariance_type='full',n_init=10)\n",
    "    em_labels=gmm.fit_predict(X_scaled)\n",
    "    sh_score = silhouette_score(X_scaled, em_labels)\n",
    "    score_n.append(sh_score)\n",
    "    n_comp_n.append(i)\n",
    "    bics_n.append(gmm.bic(X_scaled))\n",
    "\n",
    "a_all=score_n.index(max(score_n))\n",
    "b_all=bics_n.index(min(bics_n))\n",
    "\n",
    "print('The lowest BIC is:',bics_n[b_all], 'and the best score is:',score_n[a_all])"
   ]
  },
  {
   "cell_type": "code",
   "execution_count": 25,
   "metadata": {},
   "outputs": [
    {
     "data": {
      "text/plain": [
       "Text(0.5, 0.98, 'BIC Initializing with K-MEANS')"
      ]
     },
     "execution_count": 25,
     "metadata": {},
     "output_type": "execute_result"
    },
    {
     "data": {
      "image/png": "[encoded data removed]",
      "text/plain": [
       "<Figure size 432x288 with 1 Axes>"
      ]
     },
     "metadata": {
      "needs_background": "light"
     },
     "output_type": "display_data"
    }
   ],
   "source": [
    "#Plot of the best BIC's vs the amount of clusters. \n",
    "plt.show()\n",
    "silhouette_fig, ax = plt.subplots()\n",
    "ax.plot(np.arange(6,19,1),bics_n,'-o',color='darkblue')\n",
    "ax.set_xlabel('# of Clusters')\n",
    "ax.set_ylabel('BIC')\n",
    "ax.set_xticks(np.arange(6, 19, 1))\n",
    "ax.set_title('Bayesian Information Criterion',color='darkblue')\n",
    "silhouette_fig.suptitle('BIC Initializing with K-MEANS',color='red', weight = 'bold', size = 14)"
   ]
  },
  {
   "cell_type": "markdown",
   "metadata": {},
   "source": [
    "# The best solution was obtained initializing the parameters with K - MEANS ++ and choosing 8 clusters. With that in mind, the implementation was made with this exact configuration. \n",
    "\n",
    "# At the end, the probability of samples being in each cluster were taken. "
   ]
  },
  {
   "cell_type": "code",
   "execution_count": 26,
   "metadata": {},
   "outputs": [],
   "source": [
    "gmm_8=GaussianMixture(n_components=8,random_state=1,init_params='kmeans',covariance_type='full',n_init=10)\n",
    "gmm_8.fit(X_scaled)\n",
    "proba_labels_8=gmm_8.predict_proba(X_scaled)\n",
    "labels_8=gmm_8.predict(X_scaled)\n",
    "proba_labels_8=np.round(proba_labels_8,3)"
   ]
  },
  {
   "cell_type": "code",
   "execution_count": 27,
   "metadata": {},
   "outputs": [],
   "source": [
    "labels_df=pd.DataFrame(proba_labels_8,columns=['Prob. cluster 0','Prob. cluster 1','Prob. cluster 2','Prob. cluster 3',\n",
    "                                                'Prob. cluster 4','Prob. cluster 5','Prob. cluster 6','Prob. cluster 7'])\n",
    "labels_df['labels']=labels_8   #DataFrame with the probability labels for each sample. "
   ]
  }
 ],
 "metadata": {
  "kernelspec": {
   "display_name": "Python 3",
   "language": "python",
   "name": "python3"
  },
  "language_info": {
   "codemirror_mode": {
    "name": "ipython",
    "version": 3
   },
   "file_extension": ".py",
   "mimetype": "text/x-python",
   "name": "python",
   "nbconvert_exporter": "python",
   "pygments_lexer": "ipython3",
   "version": "3.8.5"
  }
 },
 "nbformat": 4,
 "nbformat_minor": 4
}
